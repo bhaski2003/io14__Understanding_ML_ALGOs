{
  "nbformat": 4,
  "nbformat_minor": 0,
  "metadata": {
    "colab": {
      "provenance": [],
      "include_colab_link": true
    },
    "kernelspec": {
      "name": "python3",
      "display_name": "Python 3"
    },
    "language_info": {
      "name": "python"
    }
  },
  "cells": [
    {
      "cell_type": "markdown",
      "metadata": {
        "id": "view-in-github",
        "colab_type": "text"
      },
      "source": [
        "<a href=\"https://colab.research.google.com/github/bhaski2003/io14__Understanding_ML_ALGOs/blob/main/Copy_of_PESUIO_Slot_14_class_1.ipynb\" target=\"_parent\"><img src=\"https://colab.research.google.com/assets/colab-badge.svg\" alt=\"Open In Colab\"/></a>"
      ]
    },
    {
      "cell_type": "markdown",
      "source": [
        "Welcome to the first class of undersanding ML algorithms\n",
        "Today you will get yourselves familiar with python and essentially get to dive into the basics of some libraries that you will be learning about throughout this course."
      ],
      "metadata": {
        "id": "uxWHk4LP14P2"
      }
    },
    {
      "cell_type": "markdown",
      "source": [
        "The Most basic Hello World program:"
      ],
      "metadata": {
        "id": "4TUobwcn2cvz"
      }
    },
    {
      "cell_type": "code",
      "source": [
        "print(\"Hello World!\")"
      ],
      "metadata": {
        "colab": {
          "base_uri": "https://localhost:8080/"
        },
        "id": "hE7C8tL22lmD",
        "outputId": "145a0148-dff4-4db3-d741-414b42869154"
      },
      "execution_count": null,
      "outputs": [
        {
          "output_type": "stream",
          "name": "stdout",
          "text": [
            "Hello World!\n"
          ]
        }
      ]
    },
    {
      "cell_type": "markdown",
      "source": [
        "Concept of variables and data types :\n",
        "EXERCISE: A travel company wants to fly a plane to the Bahamas. Flying the plane costs 5000 dollars. So far, 29 people have signed up for the trip. If the company charges 200 dollars per ticket, what is the profit made by the company? Create variables for each numeric quantity and use appropriate arithmetic operations."
      ],
      "metadata": {
        "id": "ovKfTdej2B9R"
      }
    },
    {
      "cell_type": "code",
      "source": [
        "cost=5000\n",
        "n=29\n",
        "c_person=200\n",
        "total=n*c_person\n",
        "profit=total-cost\n",
        "print(profit)"
      ],
      "metadata": {
        "id": "vxkFv26E23qA",
        "colab": {
          "base_uri": "https://localhost:8080/"
        },
        "outputId": "1b4666e0-e450-469b-c369-ec3abbd987ae"
      },
      "execution_count": null,
      "outputs": [
        {
          "output_type": "stream",
          "name": "stdout",
          "text": [
            "800\n"
          ]
        }
      ]
    },
    {
      "cell_type": "markdown",
      "source": [
        "Concept of a conditional statement or a set of conditional statements and cases :\n",
        "Write a code snippet which evaluates whether a number is a multiple of just 2 , just 3 , or both 2 and 3 (multiple of 6)"
      ],
      "metadata": {
        "id": "xjAB_LDJ24I3"
      }
    },
    {
      "cell_type": "code",
      "source": [
        "#use if-else statements and print out the required information:\n",
        "num= 12\n",
        "#complete this area\n",
        "if num%2==0 and num%3==0:\n",
        "  print(\"no. is divisible by 2 and 3\")\n",
        "elif num%2==0:\n",
        "  print(\"no. is divisible by 2\")\n",
        "elif num%3==0:\n",
        "  print(\"no. is divisible by 3\")"
      ],
      "metadata": {
        "id": "m_ZVPJuN3AXP",
        "colab": {
          "base_uri": "https://localhost:8080/"
        },
        "outputId": "0e274e2d-0233-4e67-8b4e-f49e8235a975"
      },
      "execution_count": null,
      "outputs": [
        {
          "output_type": "stream",
          "name": "stdout",
          "text": [
            "no. is divisible by 2 and 3\n"
          ]
        }
      ]
    },
    {
      "cell_type": "markdown",
      "source": [
        "Concept of loops:\n",
        "Write a program to count the number of vowels in the given string:\n",
        "ANTIESTABLISHMENTARIANISTICALLY"
      ],
      "metadata": {
        "id": "O2bGzmzO3s9L"
      }
    },
    {
      "cell_type": "code",
      "source": [
        "str=\"ANTIESTABLISHMENTARIANISTICALLY\"\n",
        "cnt=0\n",
        "for i in str:\n",
        "  if i=='A' or i=='E' or i=='I' or i=='O' or i=='U':\n",
        "    cnt=cnt+1\n",
        "print(\"no of vowels in the string is= \",cnt)"
      ],
      "metadata": {
        "id": "4g7drYH83vYE",
        "colab": {
          "base_uri": "https://localhost:8080/"
        },
        "outputId": "75f7c1f1-9904-4e13-9c55-04be913203d5"
      },
      "execution_count": null,
      "outputs": [
        {
          "output_type": "stream",
          "name": "stdout",
          "text": [
            "no of vowels in the string is=  12\n"
          ]
        }
      ]
    },
    {
      "cell_type": "markdown",
      "source": [
        "learning what each data- structure in python does and using all their functions:\n"
      ],
      "metadata": {
        "id": "e4Vc9Nw84bD5"
      }
    },
    {
      "cell_type": "markdown",
      "source": [
        "LISTS AND ITS FUNCTIONALITY:"
      ],
      "metadata": {
        "id": "OaEbJ_LY4joh"
      }
    },
    {
      "cell_type": "code",
      "source": [
        "#Define a random list of fruits \n",
        "l=['apple','orange','pear']\n",
        "#iterate over the list and find the name of the fruit which has the smallest word length\n",
        "min=0\n",
        "for i in l:\n",
        "  x=len(i)\n",
        "  if x<min:\n",
        "    min=x\n",
        "    smallest_word=i\n",
        "print(\"the word having the smallest length is:\",i)\n",
        "# append a vegetable to your existing list\n",
        "l.append('onion')\n",
        "print(l)\n",
        "# find the size of your list\n",
        "print(\"size of the list is:\",len(l))\n",
        "# add enough fruits such that your list size if greater that 4\n",
        "l.append('jackfruit')\n",
        "print(l)\n",
        "# delete the 2nd fruit(1st index) from your list:\n",
        "l.pop(1)\n",
        "print(l)\n",
        "# add your name in the 4th position of the list (3rd index)\n",
        "l.insert(3,'SIRI')\n",
        "print(l)\n"
      ],
      "metadata": {
        "id": "rjle8Jat4n7b",
        "colab": {
          "base_uri": "https://localhost:8080/"
        },
        "outputId": "5d30ab75-8d74-47da-c165-a1df51f5c6f8"
      },
      "execution_count": null,
      "outputs": [
        {
          "output_type": "stream",
          "name": "stdout",
          "text": [
            "the word having the smallest length is: pear\n",
            "['apple', 'orange', 'pear', 'onion']\n",
            "size of the list is: 4\n",
            "['apple', 'orange', 'pear', 'onion', 'jackfruit']\n",
            "['apple', 'pear', 'onion', 'jackfruit']\n",
            "['apple', 'pear', 'onion', 'SIRI', 'jackfruit']\n"
          ]
        }
      ]
    },
    {
      "cell_type": "markdown",
      "source": [
        "TUPLES AND ITS FUNCTIONALITY:"
      ],
      "metadata": {
        "id": "IAYs58gx4oWB"
      }
    },
    {
      "cell_type": "code",
      "source": [
        "#create abd tuple and print its elements \n",
        "abd=(10,20,30,40,50,'a','abcd',1.55)\n",
        "#print the type of each value in the tuple\n",
        "for i in abd:\n",
        "  print(type(i))\n",
        "#try to change the second value in your tuple to \"Caterpillar\"\n",
        "x=list(abd)\n",
        "x[1]=\"Caterpillar\"\n",
        "abd=tuple(x)\n",
        "print(abd)\n",
        "# print the last element of the tuple without using the length of the tuple\n",
        "print(abd[-1])\n",
        "# slicing is an IMPORTANT concept in python especially since you will all be working on huge amounts of data so try different options \n",
        "# print(a[-2:]), print([:3]) etc...\n",
        "print(abd[::-1])#prints in reverse order\n",
        "print(abd[1:])#prints from the 2nd element/or the 1st index\n",
        "print(abd[:-1])#prints all the elements except the last element(i.e.2nd parameter is the last index(which is not included)) \n",
        "print(abd[-2:])#prints from the last 2nd index till the end of the string\n",
        "print(abd[:5])#prints from 0th index to the 4th index\n",
        "#sort vs sorted function: find the difference in the form of a program:\n",
        "#sort function sorts the original sequence of the datatype itself(and does not return anything), \n",
        "#while sorted function returns a sorted list and does not affect the original datatype\n",
        "x=[5,3,4,1,2]\n",
        "print(sorted(x))\n",
        "print(x)#when this statement is executed, we see that the original tuple(datatype) has not been changed\n",
        "x.sort()\n",
        "print(x)#here we see that the datatype itself has been sorted"
      ],
      "metadata": {
        "id": "KquFBYey4qzu",
        "colab": {
          "base_uri": "https://localhost:8080/"
        },
        "outputId": "d13f90ed-eec3-4e95-c8a8-0261705ffd76"
      },
      "execution_count": null,
      "outputs": [
        {
          "output_type": "stream",
          "name": "stdout",
          "text": [
            "<class 'int'>\n",
            "<class 'int'>\n",
            "<class 'int'>\n",
            "<class 'int'>\n",
            "<class 'int'>\n",
            "<class 'str'>\n",
            "<class 'str'>\n",
            "<class 'float'>\n",
            "(10, 'Caterpillar', 30, 40, 50, 'a', 'abcd', 1.55)\n",
            "1.55\n",
            "(1.55, 'abcd', 'a', 50, 40, 30, 'Caterpillar', 10)\n",
            "('Caterpillar', 30, 40, 50, 'a', 'abcd', 1.55)\n",
            "(10, 'Caterpillar', 30, 40, 50, 'a', 'abcd')\n",
            "('abcd', 1.55)\n",
            "(10, 'Caterpillar', 30, 40, 50)\n",
            "[1, 2, 3, 4, 5]\n",
            "[5, 3, 4, 1, 2]\n",
            "[1, 2, 3, 4, 5]\n"
          ]
        }
      ]
    },
    {
      "cell_type": "markdown",
      "source": [
        "SETS AND ITS FUNCTIONALITY:"
      ],
      "metadata": {
        "id": "P3xn-gIL4rS6"
      }
    },
    {
      "cell_type": "code",
      "source": [
        "#explore the properties of set and after doing that solve this little puzzle below:\n",
        "\n"
      ],
      "metadata": {
        "id": "RlURFwFx4viZ"
      },
      "execution_count": null,
      "outputs": []
    },
    {
      "cell_type": "markdown",
      "source": [
        "Ana is a data-scientist  who just started her career in Meta, however she needs to find the existance of new words on facebook hashtags and find the numbre of unique such words which need to be added to the existing facebook hastag library:\n",
        "\n",
        "facebook hastag library : [\"ootd\", \"lol\", \"ffs\", \"asap\"]\n",
        "daily facebook hastag words string: \" rofl lol macha bob ootd asap fun sweet16 ffs lol asap ootd ffs macha rofl bob ootd fun candid anime happyhours bob fun happyhours\"\n",
        "You will need to indivitually extract the words from the string and then solve this problem ?? How are you going to do that ? \n",
        "# Reading documentation should become a habit ....."
      ],
      "metadata": {
        "id": "na8tI4EH70Lt"
      }
    },
    {
      "cell_type": "code",
      "source": [
        "#solve the above problem and help ana do her work she may even hire you as her assistant!!!\n",
        "str=\"rofl lol macha bob ootd asap fun sweet16 ffs lol asap ootd ffs macha rofl bob ootd fun candid anime happyhours bob fun happyhours\"\n",
        "x=set(str.split())\n",
        "print(x)"
      ],
      "metadata": {
        "id": "0ww7Zs5BBiBQ",
        "colab": {
          "base_uri": "https://localhost:8080/"
        },
        "outputId": "7aa98728-69f2-4db5-bd33-7223907b9ef5"
      },
      "execution_count": null,
      "outputs": [
        {
          "output_type": "stream",
          "name": "stdout",
          "text": [
            "{'macha', 'bob', 'lol', 'ffs', 'sweet16', 'rofl', 'candid', 'anime', 'ootd', 'happyhours', 'asap', 'fun'}\n"
          ]
        }
      ]
    },
    {
      "cell_type": "markdown",
      "source": [
        "DICTIONARIES AND ITS FUNCTIONALITY:"
      ],
      "metadata": {
        "id": "kMmUm2qI4wBP"
      }
    },
    {
      "cell_type": "code",
      "source": [
        "#explore the usage of dictionaries because it is literally so useful when in comes data science\n",
        "#a lot of the data you will be using will be as key-value pairs \n"
      ],
      "metadata": {
        "id": "oR-54dFT4zYN"
      },
      "execution_count": null,
      "outputs": []
    },
    {
      "cell_type": "markdown",
      "source": [
        "Given an unsorted list of some elements(may or may not be integers), Find the frequency of each distinct element in the list using a dictionary. \n",
        "Input : [1, 1, 1, 5, 5, 3, 1, 3, 3, 1,\n",
        "                  4, 4, 4, 2, 2, 2, 2]\n",
        "\n",
        "Output : 1 : 5\n",
        "         2 : 4\n",
        "         3 : 3\n",
        "         4 : 3\n",
        "         5 : 2\n",
        "\n"
      ],
      "metadata": {
        "id": "V-iZrEMlE30W"
      }
    },
    {
      "cell_type": "code",
      "source": [
        "# Python program to count the frequency of\n",
        "# elements in a list using a dictionary\n",
        " \n",
        "def CountFrequency(my_list):\n",
        " \n",
        "    # Creating an empty dictionary\n",
        "    freq = {}\n",
        "    #------fill your code here-----------------\n",
        "    for i in my_list:\n",
        "      if i in freq:\n",
        "        freq[i]+=1\n",
        "      else:\n",
        "        freq[i]=1\n",
        "    print(freq)\n",
        "# Driver function\n",
        "if __name__ == \"__main__\":\n",
        "    my_list =[1, 1, 1, 5, 5, 3, 1, 3, 3, 1, 4, 4, 4, 2, 2, 2, 2]\n",
        " \n",
        "    CountFrequency(my_list)"
      ],
      "metadata": {
        "id": "dPP6aUJaFbbv",
        "colab": {
          "base_uri": "https://localhost:8080/"
        },
        "outputId": "3d805c1f-21c4-499a-d308-e0091f27e3f7"
      },
      "execution_count": null,
      "outputs": [
        {
          "output_type": "stream",
          "name": "stdout",
          "text": [
            "{1: 5, 5: 2, 3: 3, 4: 3, 2: 4}\n"
          ]
        }
      ]
    },
    {
      "cell_type": "markdown",
      "source": [
        "Now that you have finished this basics exercise in python We shall now play in teams and winning Team doesn't get homework today !"
      ],
      "metadata": {
        "id": "7AoTxECAFvfc"
      }
    }
  ]
}